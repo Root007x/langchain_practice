{
 "cells": [
  {
   "cell_type": "code",
   "execution_count": 35,
   "id": "5e42da54",
   "metadata": {},
   "outputs": [
    {
     "data": {
      "text/plain": [
       "True"
      ]
     },
     "execution_count": 35,
     "metadata": {},
     "output_type": "execute_result"
    }
   ],
   "source": [
    "from langchain_huggingface import ChatHuggingFace, HuggingFaceEndpoint\n",
    "from dotenv import load_dotenv\n",
    "load_dotenv()"
   ]
  },
  {
   "cell_type": "code",
   "execution_count": 45,
   "id": "45bbf607",
   "metadata": {},
   "outputs": [],
   "source": [
    "llm_endpoint = HuggingFaceEndpoint(\n",
    "    repo_id= \"meta-llama/Llama-3.1-8B-Instruct\",\n",
    "    task =  \"text-generation\"\n",
    ")"
   ]
  },
  {
   "cell_type": "code",
   "execution_count": 46,
   "id": "fcabfff7",
   "metadata": {},
   "outputs": [],
   "source": [
    "model = ChatHuggingFace(llm=llm_endpoint)"
   ]
  },
  {
   "cell_type": "code",
   "execution_count": 50,
   "id": "fcdabdd4",
   "metadata": {},
   "outputs": [
    {
     "name": "stdout",
     "output_type": "stream",
     "text": [
      "The capital of the United States of America (USA) is Washington, D.C. (short for District of Columbia).\n"
     ]
    }
   ],
   "source": [
    "response = model.invoke(\"What is the capital of USA?\")\n",
    "print(response.content)"
   ]
  },
  {
   "cell_type": "code",
   "execution_count": null,
   "id": "831511fb",
   "metadata": {},
   "outputs": [],
   "source": []
  }
 ],
 "metadata": {
  "kernelspec": {
   "display_name": "Python 3",
   "language": "python",
   "name": "python3"
  },
  "language_info": {
   "codemirror_mode": {
    "name": "ipython",
    "version": 3
   },
   "file_extension": ".py",
   "mimetype": "text/x-python",
   "name": "python",
   "nbconvert_exporter": "python",
   "pygments_lexer": "ipython3",
   "version": "3.11.0"
  }
 },
 "nbformat": 4,
 "nbformat_minor": 5
}
